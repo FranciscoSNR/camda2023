{
  "nbformat": 4,
  "nbformat_minor": 0,
  "metadata": {
    "colab": {
      "provenance": []
    },
    "kernelspec": {
      "name": "python3",
      "display_name": "Python 3"
    },
    "language_info": {
      "name": "python"
    }
  },
  "cells": [
    {
      "cell_type": "markdown",
      "source": [
        "## AMR in genomes from mysterious city\n",
        "First lets upload the mysterious city AMR presence-absence table\n",
        "We have 143 genomes (rows) with 505 AMR markers detected"
      ],
      "metadata": {
        "id": "Ha12BOWogfew"
      }
    },
    {
      "cell_type": "code",
      "source": [
        "import pandas as pd\n",
        "## 505 combined CARD-manual Ids from mysterious samples   ### This table is incorrect, more ones are required by roow\n",
        "url = 'https://raw.githubusercontent.com/ccm-bioinfo/cambda2023/main/06_amr_resistance/data/amr_mistery_table20230622_aroIds.tsv'\n",
        "# Read the TSV file into a DataFrame\n",
        "df_CM_mysterious = pd.read_csv(url, delimiter='\\t')\n",
        "# Rename the first column\n",
        "df_CM_mysterious.columns.values[0] = 'ID'\n",
        "\n",
        "# Print the DataFrame\n",
        "print(df_CM_mysterious.head())\n",
        "\n",
        "# Get the dimensions of the DataFrame\n",
        "rows_df_CM_mysterious, columns_df_CM_mysterious = df_CM_mysterious.shape\n",
        "\n",
        "# Print the dimensions\n",
        "print(\"Number of rows:\", rows_df_CM_mysterious)\n",
        "print(\"Number of columns:\", columns_df_CM_mysterious)\n",
        "# Count non-zero values by row\n",
        "non_zero_counts = (df_CM_mysterious != 0).sum(axis=1)\n",
        "\n",
        "# Print the result\n",
        "print(non_zero_counts)\n",
        "#print (df)\n"
      ],
      "metadata": {
        "id": "9aMp6MpXddIS",
        "colab": {
          "base_uri": "https://localhost:8080/"
        },
        "outputId": "e2ce6cd6-2d6e-4e0a-86d9-ec1c959ba6f9"
      },
      "execution_count": null,
      "outputs": [
        {
          "output_type": "stream",
          "name": "stdout",
          "text": [
            "   ID  ARO:3000167  ARO:3002847  mrkb  enta  fepa  ARO:3004122  cyca  csge  \\\n",
            "0  S1            0            0     0     0     0            0     1     0   \n",
            "1  S2            0            0     0     0     0            0     1     0   \n",
            "2  S3            0            0     0     0     0            0     1     0   \n",
            "3  S4            0            0     0     1     0            0     1     0   \n",
            "4  S5            0            0     0     0     0            0     1     0   \n",
            "\n",
            "   iucc  ...  teml100  scintssj  wcst  sfax  kpsd  mdlb  ARO:3001084  tssj  \\\n",
            "0     0  ...        0         0     0     0     0     0            0     0   \n",
            "1     0  ...        0         0     0     0     0     0            0     0   \n",
            "2     0  ...        0         0     0     0     0     0            0     0   \n",
            "3     0  ...        0         0     0     0     0     0            0     0   \n",
            "4     0  ...        0         0     0     0     0     0            0     0   \n",
            "\n",
            "   icmftssm  acrr  \n",
            "0         0     0  \n",
            "1         0     0  \n",
            "2         0     0  \n",
            "3         0     0  \n",
            "4         0     0  \n",
            "\n",
            "[5 rows x 506 columns]\n",
            "Number of rows: 146\n",
            "Number of columns: 506\n",
            "0       74\n",
            "1       79\n",
            "2       85\n",
            "3       85\n",
            "4       76\n",
            "      ... \n",
            "141    125\n",
            "142    126\n",
            "143    126\n",
            "144    118\n",
            "145    115\n",
            "Length: 146, dtype: int64\n"
          ]
        }
      ]
    },
    {
      "cell_type": "code",
      "source": [
        "## Adding metadata from such as species to mysterious samples\n",
        "url = 'https://raw.githubusercontent.com/ccm-bioinfo/cambda2023/main/06_amr_resistance/codigos/data_preparation/data/amr_patterns.tsv'  # Replace with the actual GitHub URL of the CSV file\n",
        "\n",
        "# Read the TSV file into a DataFrame\n",
        "df_metadata_mysterious = pd.read_csv(url, delimiter='\\t')\n",
        "new_column = df_metadata_mysterious['ID']\n",
        "df_metadata_mysterious.insert(2, 'City', new_column)\n",
        "df_metadata_mysterious['City'] = 'mysterious'\n",
        "df_metadata_mysterious=df_metadata_mysterious.iloc[:, :4]\n",
        "\n",
        "# Print the DataFrame\n",
        "#print(df_metadata_mysterious.head())\n",
        "# Perform the join based on the 'Id' column\n",
        "mysterious_df = pd.merge( df_metadata_mysterious,df_CM_mysterious, on='ID')\n",
        "\n",
        "# Print the merged DataFrame\n",
        "print(mysterious_df.head())\n",
        "\n"
      ],
      "metadata": {
        "colab": {
          "base_uri": "https://localhost:8080/"
        },
        "id": "Q42vcqNBfO-F",
        "outputId": "7cd8a718-e71c-43b4-9591-74dc3bf6cadf"
      },
      "execution_count": null,
      "outputs": [
        {
          "output_type": "stream",
          "name": "stdout",
          "text": [
            "   ID                  Species        City AST-based group  ARO:3000167  \\\n",
            "0  S1  Enterobacter hormaechei  mysterious   3GC-resistant            0   \n",
            "1  S2  Enterobacter hormaechei  mysterious          CP CRE            0   \n",
            "2  S3  Enterobacter hormaechei  mysterious          CP CRE            0   \n",
            "3  S4  Enterobacter hormaechei  mysterious          CP CRE            0   \n",
            "4  S5  Enterobacter hormaechei  mysterious          CP CRE            0   \n",
            "\n",
            "   ARO:3002847  mrkb  enta  fepa  ARO:3004122  ...  teml100  scintssj  wcst  \\\n",
            "0            0     0     0     0            0  ...        0         0     0   \n",
            "1            0     0     0     0            0  ...        0         0     0   \n",
            "2            0     0     0     0            0  ...        0         0     0   \n",
            "3            0     0     1     0            0  ...        0         0     0   \n",
            "4            0     0     0     0            0  ...        0         0     0   \n",
            "\n",
            "   sfax  kpsd  mdlb  ARO:3001084  tssj  icmftssm  acrr  \n",
            "0     0     0     0            0     0         0     0  \n",
            "1     0     0     0            0     0         0     0  \n",
            "2     0     0     0            0     0         0     0  \n",
            "3     0     0     0            0     0         0     0  \n",
            "4     0     0     0            0     0         0     0  \n",
            "\n",
            "[5 rows x 509 columns]\n"
          ]
        }
      ]
    },
    {
      "cell_type": "code",
      "source": [
        "# Getting consensus by city\n",
        "## Pending\n",
        "\n",
        "# Extract column 3\n",
        "\n",
        "#df=mysterious_df\n",
        "#df = df.drop(columns=[df.columns[0], df.columns[2], df.columns[3]])\n",
        "\n",
        "#grouped = df.groupby('Species').agg(lambda x: x.mode().iloc[0])\n",
        "\n",
        "# Print the result\n",
        "#print(grouped)\n",
        "# Count non-zero values by row\n",
        "#non_zero_counts = (df != 0).sum(axis=1)\n",
        "\n",
        "# Print the result\n",
        "#print(non_zero_counts)\n",
        "#print (df)"
      ],
      "metadata": {
        "id": "OFVc0YBklCSr"
      },
      "execution_count": null,
      "outputs": []
    },
    {
      "cell_type": "code",
      "source": [],
      "metadata": {
        "id": "POHGLOxQg-Ro"
      },
      "execution_count": null,
      "outputs": []
    },
    {
      "cell_type": "markdown",
      "source": [
        "## AMR in metagenomes  \n",
        "### Extracted by taxonomy - Binned by city - Assembled - AMR profiled\n",
        "We found 492 CARD Ids ( columns) not all of them are in the mysterious city samples.  \n",
        "The 12 rows are the genus _Escherichia_, _Enterobacter_ and _Klebsiella_ in the 6 US cities were AMR CARD models were found.\n"
      ],
      "metadata": {
        "id": "USj4OYdWhAdJ"
      }
    },
    {
      "cell_type": "code",
      "source": [
        "\n",
        "## CARD table for Extracted by Taxonomy , binned by city\n",
        "url = 'https://raw.githubusercontent.com/ccm-bioinfo/cambda2023/main/06_amr_resistance/data/extraction-card-presence-anton-20230621.tsv'  # Replace with the actual GitHub URL of the CSV file\n",
        "\n",
        "# Read the TSV file into a DataFrame\n",
        "df_ET_BC_AMR_CARD = pd.read_csv(url, delimiter='\\t').transpose()\n",
        "\n",
        "# Get the values from the third row\n",
        "third_row = df_ET_BC_AMR_CARD.iloc[1]\n",
        "df_ET_BC_AMR_CARD.columns=third_row\n",
        "# Add a prefix to column names\n",
        "prefix = 'ARO:'  # Replace with the desired prefix\n",
        "df_ET_BC_AMR_CARD = df_ET_BC_AMR_CARD.add_prefix(prefix)\n",
        "\n",
        "# Remove a specific row by index\n",
        "index_to_remove = 'aro'  # Replace with the index of the row you want to remove\n",
        "df_ET_BC_AMR_CARD = df_ET_BC_AMR_CARD.drop(index_to_remove)\n",
        "\n",
        "\n",
        "print(df_ET_BC_AMR_CARD)\n"
      ],
      "metadata": {
        "colab": {
          "base_uri": "https://localhost:8080/"
        },
        "outputId": "4995edcd-bada-418b-fc6c-c4403a51a03d",
        "id": "L7GauCTui59F"
      },
      "execution_count": null,
      "outputs": [
        {
          "output_type": "stream",
          "name": "stdout",
          "text": [
            "aro        ARO:3000620 ARO:3000535 ARO:3003548  \\\n",
            "Unnamed: 0        adeL        macB        mdtN   \n",
            "BAL_En               1           1           1   \n",
            "DEN_En               0           1           1   \n",
            "DEN_Es               0           0           0   \n",
            "DEN_Kl               0           0           0   \n",
            "MIN_En               1           0           0   \n",
            "NYC_En               1           1           1   \n",
            "NYC_Es               1           1           0   \n",
            "NYC_Kl               1           1           1   \n",
            "SAC_En               1           0           0   \n",
            "SAN_En               0           0           0   \n",
            "\n",
            "aro                                               ARO:3003511 ARO:3003980  \\\n",
            "Unnamed: 0  Escherichia coli soxS with mutation conferring...    tetA(58)   \n",
            "BAL_En                                                      1           1   \n",
            "DEN_En                                                      0           1   \n",
            "DEN_Es                                                      0           0   \n",
            "DEN_Kl                                                      0           0   \n",
            "MIN_En                                                      0           0   \n",
            "NYC_En                                                      1           1   \n",
            "NYC_Es                                                      0           0   \n",
            "NYC_Kl                                                      1           1   \n",
            "SAC_En                                                      0           1   \n",
            "SAN_En                                                      0           0   \n",
            "\n",
            "aro                                               ARO:3004562 ARO:3000024  \\\n",
            "Unnamed: 0  Clostridioides difficile gyrB conferring resis...        patA   \n",
            "BAL_En                                                      1           1   \n",
            "DEN_En                                                      0           1   \n",
            "DEN_Es                                                      0           0   \n",
            "DEN_Kl                                                      0           0   \n",
            "MIN_En                                                      0           0   \n",
            "NYC_En                                                      1           1   \n",
            "NYC_Es                                                      0           0   \n",
            "NYC_Kl                                                      1           1   \n",
            "SAC_En                                                      0           0   \n",
            "SAN_En                                                      0           0   \n",
            "\n",
            "aro        ARO:3001216 ARO:3001313 ARO:3002881  ... ARO:3006885  ARO:3003199  \\\n",
            "Unnamed: 0        mdtH        facT        lmrC  ...       ELM-1  AAC(6')-Iak   \n",
            "BAL_En               1           1           1  ...           0            0   \n",
            "DEN_En               0           0           0  ...           0            0   \n",
            "DEN_Es               0           0           0  ...           0            0   \n",
            "DEN_Kl               0           0           0  ...           0            0   \n",
            "MIN_En               0           0           0  ...           0            0   \n",
            "NYC_En               1           1           1  ...           0            0   \n",
            "NYC_Es               0           0           1  ...           0            0   \n",
            "NYC_Kl               1           1           1  ...           1            1   \n",
            "SAC_En               0           0           1  ...           0            0   \n",
            "SAN_En               0           0           0  ...           0            0   \n",
            "\n",
            "aro        ARO:3003741 ARO:3002830  \\\n",
            "Unnamed: 0        mphE      vgaALC   \n",
            "BAL_En               0           0   \n",
            "DEN_En               0           0   \n",
            "DEN_Es               0           0   \n",
            "DEN_Kl               0           0   \n",
            "MIN_En               0           0   \n",
            "NYC_En               0           0   \n",
            "NYC_Es               0           0   \n",
            "NYC_Kl               1           1   \n",
            "SAC_En               0           0   \n",
            "SAN_En               0           0   \n",
            "\n",
            "aro                                               ARO:3003785 ARO:3002680  \\\n",
            "Unnamed: 0  Chlamydia trachomatis intrinsic murA conferrin...       catB8   \n",
            "BAL_En                                                      0           0   \n",
            "DEN_En                                                      0           0   \n",
            "DEN_Es                                                      0           0   \n",
            "DEN_Kl                                                      0           0   \n",
            "MIN_En                                                      0           0   \n",
            "NYC_En                                                      0           0   \n",
            "NYC_Es                                                      0           0   \n",
            "NYC_Kl                                                      1           1   \n",
            "SAC_En                                                      0           0   \n",
            "SAN_En                                                      0           0   \n",
            "\n",
            "aro        ARO:3004665 ARO:3000806           ARO:3004289 ARO:3006239  \n",
            "Unnamed: 0       cmlA8        MexG  Vibrio cholerae varG      ACT-44  \n",
            "BAL_En               0           0                     0           0  \n",
            "DEN_En               0           0                     0           0  \n",
            "DEN_Es               0           0                     0           0  \n",
            "DEN_Kl               0           0                     0           0  \n",
            "MIN_En               0           0                     0           0  \n",
            "NYC_En               0           0                     0           0  \n",
            "NYC_Es               0           0                     0           0  \n",
            "NYC_Kl               1           1                     1           0  \n",
            "SAC_En               0           0                     0           1  \n",
            "SAN_En               0           0                     0           0  \n",
            "\n",
            "[11 rows x 492 columns]\n"
          ]
        }
      ]
    },
    {
      "cell_type": "markdown",
      "source": [
        "Now we will get the CARD Ids intersection with IDs in mysterious city samples, only 71 were found.  "
      ],
      "metadata": {
        "id": "4HL0uqI3IbyS"
      }
    },
    {
      "cell_type": "code",
      "source": [
        "\n",
        "\n",
        "# Create an empty column with the desired name\n",
        "new_column = df_ET_BC_AMR_CARD.index\n",
        "\n",
        "# Get the intersection of column names\n",
        "common_columns = list(set(df_CM_mysterious.columns).intersection(df_ET_BC_AMR_CARD.columns))\n",
        "\n",
        "# Keep only the common columns in both DataFrames\n",
        "#df1 = df_CM_mysterious[common_columns]\n",
        "df_ET_BC_AMR_CARD = df_ET_BC_AMR_CARD[common_columns]\n",
        "\n",
        "# Print the updated DataFrames with only the common columns\n",
        "# Assign the empty column as the first column in the DataFrame\n",
        "df_ET_BC_AMR_CARD.insert(0, 'db', new_column)\n",
        "df_ET_BC_AMR_CARD=df_ET_BC_AMR_CARD.reset_index(drop=True)\n",
        "\n",
        "print(df_ET_BC_AMR_CARD)\n",
        "\n",
        "\n",
        "# Print the DataFrame\n",
        "#print(df_ET_BC_AMR_CARD)\n",
        "\n"
      ],
      "metadata": {
        "colab": {
          "base_uri": "https://localhost:8080/"
        },
        "id": "Ai4MmBeOHtME",
        "outputId": "ed56751a-1c74-4db3-82af-7a70fea19393"
      },
      "execution_count": null,
      "outputs": [
        {
          "output_type": "stream",
          "name": "stdout",
          "text": [
            "aro          db                   ARO:3004122 ARO:3000794 ARO:3005059  \\\n",
            "0    Unnamed: 0  Klebsiella pneumoniae OmpK37        mdtC        LptD   \n",
            "1        BAL_En                             0           1           0   \n",
            "2        DEN_En                             0           0           0   \n",
            "3        DEN_Es                             0           0           0   \n",
            "4        DEN_Kl                             0           0           0   \n",
            "5        MIN_En                             0           0           0   \n",
            "6        NYC_En                             1           1           1   \n",
            "7        NYC_Es                             1           1           0   \n",
            "8        NYC_Kl                             1           1           1   \n",
            "9        SAC_En                             0           1           0   \n",
            "10       SAN_En                             0           0           0   \n",
            "\n",
            "aro ARO:3003922 ARO:3002858 ARO:3000216 ARO:3000833 ARO:3002660 ARO:3001329  \\\n",
            "0          oqxA      dfrA12        acrB        evgS   APH(6)-Id        mdtG   \n",
            "1             1           0           1           0           0           0   \n",
            "2             0           0           0           0           0           0   \n",
            "3             0           0           0           0           0           0   \n",
            "4             0           0           0           0           0           0   \n",
            "5             0           0           0           0           0           0   \n",
            "6             1           1           1           1           1           1   \n",
            "7             0           0           1           1           1           1   \n",
            "8             1           0           1           1           1           1   \n",
            "9             0           0           0           0           0           0   \n",
            "10            0           0           0           0           0           0   \n",
            "\n",
            "aro  ... ARO:3000796 ARO:3002895 ARO:3003838 ARO:3000533 ARO:3000502  \\\n",
            "0    ...        mdtF       SAT-2        gadW        macA        AcrF   \n",
            "1    ...           0           0           0           0           1   \n",
            "2    ...           0           0           0           0           0   \n",
            "3    ...           0           0           0           0           0   \n",
            "4    ...           0           0           0           0           0   \n",
            "5    ...           0           0           0           0           0   \n",
            "6    ...           1           1           1           1           1   \n",
            "7    ...           0           0           1           0           1   \n",
            "8    ...           0           0           1           1           1   \n",
            "9    ...           0           0           0           0           0   \n",
            "10   ...           0           0           0           0           0   \n",
            "\n",
            "aro ARO:3005047 ARO:3002816 ARO:3003577 ARO:3000027 ARO:3002683  \n",
            "0          eptB        clbC         ugd        emrA        catI  \n",
            "1             0           0           0           0           0  \n",
            "2             0           0           0           0           0  \n",
            "3             0           0           0           0           0  \n",
            "4             0           0           0           0           0  \n",
            "5             0           0           0           0           0  \n",
            "6             1           1           1           1           1  \n",
            "7             0           0           1           0           0  \n",
            "8             1           0           1           1           0  \n",
            "9             1           0           0           0           0  \n",
            "10            0           0           0           0           0  \n",
            "\n",
            "[11 rows x 72 columns]\n"
          ]
        }
      ]
    },
    {
      "cell_type": "markdown",
      "source": [
        "Lets find all hits of the manually curated database 325 Ids were blastn against metagenomic samples\n",
        "\n"
      ],
      "metadata": {
        "id": "GHKODGp6J__h"
      }
    },
    {
      "cell_type": "code",
      "source": [
        "url2='https://raw.githubusercontent.com/ccm-bioinfo/cambda2023/main/06_amr_resistance/data/amr_counts_complement_b3_20230629.tsv'\n",
        "# this link is the result given by blast our 325 ids database vs cambda metagenomic samples\n",
        "\n",
        "\n",
        "# Read the TSV file into a DataFrame\n",
        "df_ET_BC_AMR_BLASTn = pd.read_csv(url2, delimiter='\\t')\n",
        "df_ET_BC_AMR_BLASTn['db'] = df_ET_BC_AMR_BLASTn['db'].str.split('.').str[0]\n",
        "\n",
        "# Create an empty column with the desired name\n",
        "new_column = df_ET_BC_AMR_BLASTn['db']\n",
        "\n",
        "# Print the DataFrame\n",
        "#print(df_ET_BC_AMR_BLASTn)\n",
        "\n",
        "# Get the intersection of column names\n",
        "common_columns = list(set(df_CM_mysterious.columns).intersection(df_ET_BC_AMR_BLASTn))\n",
        "\n",
        "# Keep only the common columns in both DataFrames\n",
        "#df1 = df_CM_mysterious[common_columns]\n",
        "df_ET_BC_AMR_BLASTn= df_ET_BC_AMR_BLASTn[common_columns]\n",
        "# Transform DataFrame to boolean\n",
        "df_boolean = df_ET_BC_AMR_BLASTn.astype(bool)\n",
        "# Convert boolean values back to numeric\n",
        "df_ET_BC_AMR_BLASTn = df_boolean.astype(int)\n",
        "\n",
        "\n",
        "# Assign the empty column as the first column in the DataFrame\n",
        "df_ET_BC_AMR_BLASTn.insert(0, 'db', new_column)\n",
        "df_ET_BC_AMR_BLASTn=df_ET_BC_AMR_BLASTn.reset_index(drop=True)\n",
        "\n",
        "# Print the updated DataFrames with only the common columns\n",
        "#print(df1)\n",
        "print(df_ET_BC_AMR_BLASTn)"
      ],
      "metadata": {
        "colab": {
          "base_uri": "https://localhost:8080/"
        },
        "id": "l5eXdZ5umQE_",
        "outputId": "8d71c9fb-dd31-4fa7-b148-78a2f8c5d616"
      },
      "execution_count": null,
      "outputs": [
        {
          "output_type": "stream",
          "name": "stdout",
          "text": [
            "        db  wzc  iuta  yhei  chus  gspa  iucd  phoq  tesa  setb  ...  clbs  \\\n",
            "0   BAL_En    0     0     0     0     0     1     0     1     0  ...     0   \n",
            "1   BAL_Es    0     0     0     0     0     0     0     0     0  ...     0   \n",
            "2   BAL_Kl    0     0     0     0     0     0     0     0     0  ...     0   \n",
            "3   DEN_En    0     0     0     0     0     0     0     0     0  ...     0   \n",
            "4   DEN_Es    0     0     0     0     0     0     0     0     0  ...     0   \n",
            "5   DEN_Kl    0     0     1     0     0     0     0     1     1  ...     0   \n",
            "6   MIN_En    0     0     0     0     0     0     0     0     0  ...     0   \n",
            "7   MIN_Kl    0     0     0     0     0     0     0     0     0  ...     0   \n",
            "8   NYC_En    0     0     1     0     0     1     0     1     1  ...     0   \n",
            "9   NYC_Es    0     0     1     0     0     0     0     1     0  ...     0   \n",
            "10  NYC_Kl    0     1     0     0     0     0     0     1     1  ...     0   \n",
            "11  SAC_En    0     0     0     0     0     0     0     0     0  ...     0   \n",
            "12  SAC_Es    0     0     0     0     0     0     0     0     0  ...     0   \n",
            "13  SAC_Kl    0     0     0     0     0     0     0     0     0  ...     0   \n",
            "14  SAN_Es    0     0     1     0     0     0     0     0     0  ...     0   \n",
            "15  SAN_Kl    0     0     0     0     0     0     0     0     0  ...     0   \n",
            "16  MIN_Es    0     0     0     0     0     0     0     0     0  ...     0   \n",
            "17  SAN_En    0     0     0     0     0     0     0     0     0  ...     0   \n",
            "\n",
            "    clbk  csgg  cpsacp  pape  oqxb32  shut  aac3ii  kpsc  tssb  \n",
            "0      0     0       0     0       0     0       0     0     0  \n",
            "1      0     0       0     0       0     0       0     0     0  \n",
            "2      0     0       0     0       1     0       0     0     0  \n",
            "3      0     0       0     0       0     0       0     0     0  \n",
            "4      0     0       0     0       0     0       0     0     0  \n",
            "5      0     0       0     0       1     0       0     0     0  \n",
            "6      0     0       0     0       0     0       0     0     0  \n",
            "7      0     0       0     0       0     0       0     0     0  \n",
            "8      0     1       0     1       1     0       0     0     0  \n",
            "9      1     0       0     0       0     0       0     0     0  \n",
            "10     1     0       1     1       1     0       0     0     0  \n",
            "11     0     0       0     1       0     0       0     0     0  \n",
            "12     0     0       0     0       0     0       0     0     0  \n",
            "13     0     0       0     0       0     0       0     0     0  \n",
            "14     0     1       0     0       0     0       0     0     0  \n",
            "15     0     0       0     0       0     0       0     0     0  \n",
            "16     0     0       0     0       0     0       0     0     0  \n",
            "17     0     0       0     0       0     0       0     0     0  \n",
            "\n",
            "[18 rows x 326 columns]\n"
          ]
        }
      ]
    },
    {
      "cell_type": "markdown",
      "source": [
        "Now lets horizontally combined the two datasets, so that for each city we will have 71+325 =396 AMR IDS"
      ],
      "metadata": {
        "id": "x8uTrSe_K1fn"
      }
    },
    {
      "cell_type": "code",
      "source": [
        "#print(df_ET_BC_AMR_BLASTn['db'])\n",
        "#print(df_ET_BC_AMR_CARD['db'])\n",
        "merged_ETBCMet_df = pd.merge(df_ET_BC_AMR_BLASTn, df_ET_BC_AMR_CARD, on='db')\n",
        "merged_ETBCMet_df.rename(columns={'db': 'ID'}, inplace=True)\n",
        "print(merged_ETBCMet_df)"
      ],
      "metadata": {
        "colab": {
          "base_uri": "https://localhost:8080/"
        },
        "id": "D75UJhX8K6bl",
        "outputId": "06de806a-d173-40a0-a7f4-83e5f7a5f2fe"
      },
      "execution_count": null,
      "outputs": [
        {
          "output_type": "stream",
          "name": "stdout",
          "text": [
            "       ID  wzc  iuta  yhei  chus  gspa  iucd  phoq  tesa  setb  ...  \\\n",
            "0  BAL_En    0     0     0     0     0     1     0     1     0  ...   \n",
            "1  DEN_En    0     0     0     0     0     0     0     0     0  ...   \n",
            "2  DEN_Es    0     0     0     0     0     0     0     0     0  ...   \n",
            "3  DEN_Kl    0     0     1     0     0     0     0     1     1  ...   \n",
            "4  MIN_En    0     0     0     0     0     0     0     0     0  ...   \n",
            "5  NYC_En    0     0     1     0     0     1     0     1     1  ...   \n",
            "6  NYC_Es    0     0     1     0     0     0     0     1     0  ...   \n",
            "7  NYC_Kl    0     1     0     0     0     0     0     1     1  ...   \n",
            "8  SAC_En    0     0     0     0     0     0     0     0     0  ...   \n",
            "9  SAN_En    0     0     0     0     0     0     0     0     0  ...   \n",
            "\n",
            "   ARO:3000796  ARO:3002895  ARO:3003838  ARO:3000533  ARO:3000502  \\\n",
            "0            0            0            0            0            1   \n",
            "1            0            0            0            0            0   \n",
            "2            0            0            0            0            0   \n",
            "3            0            0            0            0            0   \n",
            "4            0            0            0            0            0   \n",
            "5            1            1            1            1            1   \n",
            "6            0            0            1            0            1   \n",
            "7            0            0            1            1            1   \n",
            "8            0            0            0            0            0   \n",
            "9            0            0            0            0            0   \n",
            "\n",
            "   ARO:3005047  ARO:3002816  ARO:3003577  ARO:3000027  ARO:3002683  \n",
            "0            0            0            0            0            0  \n",
            "1            0            0            0            0            0  \n",
            "2            0            0            0            0            0  \n",
            "3            0            0            0            0            0  \n",
            "4            0            0            0            0            0  \n",
            "5            1            1            1            1            1  \n",
            "6            0            0            1            0            0  \n",
            "7            1            0            1            1            0  \n",
            "8            1            0            0            0            0  \n",
            "9            0            0            0            0            0  \n",
            "\n",
            "[10 rows x 397 columns]\n"
          ]
        }
      ]
    },
    {
      "cell_type": "markdown",
      "source": [
        "Now lets combine the 10 rows from metagenomics and ~300 AMR Ids with\n",
        "~146 rows with ~505 AMR markers from mysterious city"
      ],
      "metadata": {
        "id": "C53bztYtMguK"
      }
    },
    {
      "cell_type": "code",
      "source": [
        "# Vertically join the DataFrames keeping all columns from df1\n",
        "concatenated_df = pd.concat([df_CM_mysterious, merged_ETBCMet_df], axis=0, ignore_index=True).fillna(0)\n",
        "print(concatenated_df)"
      ],
      "metadata": {
        "colab": {
          "base_uri": "https://localhost:8080/"
        },
        "id": "39AyDOk5M4IO",
        "outputId": "3526fdf5-058b-4598-979f-4e5dfd50254f"
      },
      "execution_count": null,
      "outputs": [
        {
          "output_type": "stream",
          "name": "stdout",
          "text": [
            "         ID  ARO:3000167  ARO:3002847  mrkb  enta  fepa  ARO:3004122  cyca  \\\n",
            "0        S1          0.0          0.0     0     0     0            0     1   \n",
            "1        S2          0.0          0.0     0     0     0            0     1   \n",
            "2        S3          0.0          0.0     0     0     0            0     1   \n",
            "3        S4          0.0          0.0     0     1     0            0     1   \n",
            "4        S5          0.0          0.0     0     0     0            0     1   \n",
            "..      ...          ...          ...   ...   ...   ...          ...   ...   \n",
            "151  NYC_En          0.0          0.0     0     1     1            1     1   \n",
            "152  NYC_Es          0.0          0.0     0     1     1            1     0   \n",
            "153  NYC_Kl          0.0          0.0     1     1     1            1     1   \n",
            "154  SAC_En          0.0          0.0     0     0     0            0     0   \n",
            "155  SAN_En          0.0          0.0     0     0     0            0     0   \n",
            "\n",
            "     csge  iucc  ...  teml100  scintssj  wcst  sfax  kpsd  mdlb  ARO:3001084  \\\n",
            "0       0     0  ...        0         0     0     0     0     0          0.0   \n",
            "1       0     0  ...        0         0     0     0     0     0          0.0   \n",
            "2       0     0  ...        0         0     0     0     0     0          0.0   \n",
            "3       0     0  ...        0         0     0     0     0     0          0.0   \n",
            "4       0     0  ...        0         0     0     0     0     0          0.0   \n",
            "..    ...   ...  ...      ...       ...   ...   ...   ...   ...          ...   \n",
            "151     0     1  ...        0         0     0     0     0     1          0.0   \n",
            "152     1     0  ...        0         0     0     0     0     1          0.0   \n",
            "153     0     0  ...        0         1     0     0     0     1          0.0   \n",
            "154     0     0  ...        0         0     0     0     0     0          0.0   \n",
            "155     0     0  ...        0         0     0     0     0     0          0.0   \n",
            "\n",
            "     tssj  icmftssm  acrr  \n",
            "0       0         0     0  \n",
            "1       0         0     0  \n",
            "2       0         0     0  \n",
            "3       0         0     0  \n",
            "4       0         0     0  \n",
            "..    ...       ...   ...  \n",
            "151     0         0     0  \n",
            "152     0         0     0  \n",
            "153     0         0     1  \n",
            "154     0         0     0  \n",
            "155     0         0     0  \n",
            "\n",
            "[156 rows x 506 columns]\n"
          ]
        }
      ]
    },
    {
      "cell_type": "code",
      "source": [
        "\n",
        "## Metadata from mysterious samples\n",
        "url = 'https://raw.githubusercontent.com/ccm-bioinfo/cambda2023/main/06_amr_resistance/codigos/data_preparation/data/amr_patterns.tsv'  # Replace with the actual GitHub URL of the CSV file\n",
        "\n",
        "# Read the TSV file into a DataFrame\n",
        "df_metadata_mysterious = pd.read_csv(url, delimiter='\\t')\n",
        "new_column = df_metadata_mysterious['ID']\n",
        "df_metadata_mysterious.insert(2, 'City', new_column)\n",
        "df_metadata_mysterious['City'] = 'mysterious'\n",
        "df_metadata_mysterious=df_metadata_mysterious.iloc[:, :4]\n",
        "\n",
        "# Print the DataFrame\n",
        "#print(df_metadata_mysterious.head())\n",
        "\n",
        "df=concatenated_df.tail(10)\n",
        "new_column1 =concatenated_df.tail(10)['ID'].str.split('_').str[0]\n",
        "new_column2 =concatenated_df.tail(10)['ID'].str.split('_').str[1].replace(\"En\", \"Enterobacter hormaechei\").replace(\"Es\", \"Escherichia coli\").replace(\"Kl\", \"Klebsiella pneumoniae\")\n",
        "\n",
        "df.insert(1, 'Species', new_column2)\n",
        "df.insert(2, 'City', new_column1)\n",
        "\n",
        "df=df.reset_index(drop=True)\n",
        "df=df.iloc[:, :3]\n",
        "#print(df)\n",
        "\n",
        "metadata_df = pd.concat([df_metadata_mysterious, df], axis=0, ignore_index=True).fillna(0)\n",
        "print(metadata_df)\n"
      ],
      "metadata": {
        "colab": {
          "base_uri": "https://localhost:8080/"
        },
        "id": "RlELQrO8TN-C",
        "outputId": "51fd3274-1938-4d84-f741-5ffb09637c88"
      },
      "execution_count": null,
      "outputs": [
        {
          "output_type": "stream",
          "name": "stdout",
          "text": [
            "         ID                  Species        City AST-based group\n",
            "0        S1  Enterobacter hormaechei  mysterious   3GC-resistant\n",
            "1        S2  Enterobacter hormaechei  mysterious          CP CRE\n",
            "2        S3  Enterobacter hormaechei  mysterious          CP CRE\n",
            "3        S4  Enterobacter hormaechei  mysterious          CP CRE\n",
            "4        S5  Enterobacter hormaechei  mysterious          CP CRE\n",
            "..      ...                      ...         ...             ...\n",
            "151  NYC_En  Enterobacter hormaechei         NYC               0\n",
            "152  NYC_Es         Escherichia coli         NYC               0\n",
            "153  NYC_Kl    Klebsiella pneumoniae         NYC               0\n",
            "154  SAC_En  Enterobacter hormaechei         SAC               0\n",
            "155  SAN_En  Enterobacter hormaechei         SAN               0\n",
            "\n",
            "[156 rows x 4 columns]\n"
          ]
        }
      ]
    },
    {
      "cell_type": "markdown",
      "source": [
        "Now lets add the metadata of all cities (including misterious) to the presence Absence table"
      ],
      "metadata": {
        "id": "VixuAnWgYAAJ"
      }
    },
    {
      "cell_type": "code",
      "source": [
        "merged_df = pd.merge(metadata_df, concatenated_df, on='ID')\n",
        "print(merged_df)\n",
        "#data = merged_df.iloc[:, 4:].values\n",
        "#print(data)"
      ],
      "metadata": {
        "colab": {
          "base_uri": "https://localhost:8080/"
        },
        "id": "e396uE76YLfa",
        "outputId": "f1d5b0b2-de95-41b0-f441-48aa5cfbdd50"
      },
      "execution_count": null,
      "outputs": [
        {
          "output_type": "stream",
          "name": "stdout",
          "text": [
            "         ID                  Species        City AST-based group  ARO:3000167  \\\n",
            "0        S1  Enterobacter hormaechei  mysterious   3GC-resistant          0.0   \n",
            "1        S2  Enterobacter hormaechei  mysterious          CP CRE          0.0   \n",
            "2        S3  Enterobacter hormaechei  mysterious          CP CRE          0.0   \n",
            "3        S4  Enterobacter hormaechei  mysterious          CP CRE          0.0   \n",
            "4        S5  Enterobacter hormaechei  mysterious          CP CRE          0.0   \n",
            "..      ...                      ...         ...             ...          ...   \n",
            "151  NYC_En  Enterobacter hormaechei         NYC               0          0.0   \n",
            "152  NYC_Es         Escherichia coli         NYC               0          0.0   \n",
            "153  NYC_Kl    Klebsiella pneumoniae         NYC               0          0.0   \n",
            "154  SAC_En  Enterobacter hormaechei         SAC               0          0.0   \n",
            "155  SAN_En  Enterobacter hormaechei         SAN               0          0.0   \n",
            "\n",
            "     ARO:3002847  mrkb  enta  fepa  ARO:3004122  ...  teml100  scintssj  wcst  \\\n",
            "0            0.0     0     0     0            0  ...        0         0     0   \n",
            "1            0.0     0     0     0            0  ...        0         0     0   \n",
            "2            0.0     0     0     0            0  ...        0         0     0   \n",
            "3            0.0     0     1     0            0  ...        0         0     0   \n",
            "4            0.0     0     0     0            0  ...        0         0     0   \n",
            "..           ...   ...   ...   ...          ...  ...      ...       ...   ...   \n",
            "151          0.0     0     1     1            1  ...        0         0     0   \n",
            "152          0.0     0     1     1            1  ...        0         0     0   \n",
            "153          0.0     1     1     1            1  ...        0         1     0   \n",
            "154          0.0     0     0     0            0  ...        0         0     0   \n",
            "155          0.0     0     0     0            0  ...        0         0     0   \n",
            "\n",
            "     sfax  kpsd  mdlb  ARO:3001084  tssj  icmftssm  acrr  \n",
            "0       0     0     0          0.0     0         0     0  \n",
            "1       0     0     0          0.0     0         0     0  \n",
            "2       0     0     0          0.0     0         0     0  \n",
            "3       0     0     0          0.0     0         0     0  \n",
            "4       0     0     0          0.0     0         0     0  \n",
            "..    ...   ...   ...          ...   ...       ...   ...  \n",
            "151     0     0     1          0.0     0         0     0  \n",
            "152     0     0     1          0.0     0         0     0  \n",
            "153     0     0     1          0.0     0         0     1  \n",
            "154     0     0     0          0.0     0         0     0  \n",
            "155     0     0     0          0.0     0         0     0  \n",
            "\n",
            "[156 rows x 509 columns]\n"
          ]
        }
      ]
    },
    {
      "cell_type": "code",
      "source": [
        "\n",
        "# Assuming you have a DataFrame named df\n",
        "\n",
        "# Export the DataFrame as a CSV file\n",
        "csv_file_path = '230622_AMR_mysterious_ETBC_all_nelly.csv'\n",
        "merged_df.to_csv(csv_file_path, index=False)\n",
        "\n",
        "# Print the file paths\n",
        "print(\"CSV file saved:\", csv_file_path)"
      ],
      "metadata": {
        "colab": {
          "base_uri": "https://localhost:8080/"
        },
        "id": "gN8QQP1wcUVw",
        "outputId": "38cc566a-5b7b-4280-b753-6fcbb0f4ba34"
      },
      "execution_count": null,
      "outputs": [
        {
          "output_type": "stream",
          "name": "stdout",
          "text": [
            "CSV file saved: 230622_AMR_mysterious_ETBC_all_nelly.csv\n"
          ]
        }
      ]
    },
    {
      "cell_type": "code",
      "source": [
        "\n",
        "import pandas as pd\n",
        "import requests\n",
        "from io import StringIO\n",
        "from scipy.cluster.hierarchy import dendrogram, linkage\n",
        "import matplotlib.pyplot as plt\n",
        "\n",
        "# Define the URL\n",
        "url = 'https://raw.githubusercontent.com/ccm-bioinfo/cambda2023/main/06_amr_resistance/data/230622_AMR_mysterious_ETBC_all_nelly.csv'\n",
        "\n",
        "# Make a GET request to fetch the data from the URL\n",
        "response = requests.get(url)\n",
        "\n",
        "# Read the response content into a DataFrame\n",
        "df = pd.read_csv(StringIO(response.text))\n",
        "\n",
        "# Extract the columns for clustering and labeling\n",
        "data = df.iloc[:, 5:].values\n",
        "labels = df['ID'].values\n",
        "\n",
        "# Perform hierarchical clustering\n",
        "Z = linkage(data, method='average')\n",
        "\n",
        "# Plot the dendrogram\n",
        "fig, ax = plt.subplots(figsize=(10, 8))\n",
        "dendrogram(Z, labels=labels, color_threshold=0, leaf_font_size=10, ax=ax)\n",
        "\n",
        "# Set plot title and labels\n",
        "plt.title('Hierarchical Clustering Dendrogram')\n",
        "plt.xlabel('ID')\n",
        "plt.ylabel('Distance')\n",
        "\n",
        "# Show the plot\n",
        "plt.show()"
      ],
      "metadata": {
        "colab": {
          "base_uri": "https://localhost:8080/",
          "height": 758
        },
        "id": "msebWmgVTGKM",
        "outputId": "3be57425-3cdc-4c79-ab60-4c6d66ee74ce"
      },
      "execution_count": null,
      "outputs": [
        {
          "output_type": "display_data",
          "data": {
            "text/plain": [
              "<Figure size 1000x800 with 1 Axes>"
            ],
            "image/png": "[encoded data removed]"
          },
          "metadata": {}
        }
      ]
    },
    {
      "cell_type": "code",
      "source": [
        "import pandas as pd\n",
        "import requests\n",
        "from io import StringIO\n",
        "from sklearn.cluster import KMeans\n",
        "\n",
        "# Define the URL\n",
        "url = 'https://raw.githubusercontent.com/ccm-bioinfo/cambda2023/main/06_amr_resistance/data/230622_AMR_mysterious_ETBC_all_nelly.csv'\n",
        "\n",
        "# Make a GET request to fetch the data from the URL\n",
        "response = requests.get(url)\n",
        "\n",
        "# Read the response content into a DataFrame\n",
        "df = pd.read_csv(StringIO(response.text))\n",
        "\n",
        "# Extract the columns for clustering\n",
        "data = df.iloc[:, 5:].values\n",
        "\n",
        "# Perform clustering\n",
        "kmeans = KMeans(n_clusters=3)  # Set the desired number of clusters\n",
        "clusters = kmeans.fit_predict(data)\n",
        "\n",
        "# Add the clusters as a new column in the DataFrame\n",
        "df['Cluster'] = clusters\n",
        "\n",
        "# Print the DataFrame with the cluster assignment\n",
        "print(df)\n"
      ],
      "metadata": {
        "colab": {
          "base_uri": "https://localhost:8080/"
        },
        "id": "RHDsRILdgyHg",
        "outputId": "29f8990f-0ad4-4d17-9af3-fc3c8f97eaec"
      },
      "execution_count": null,
      "outputs": [
        {
          "output_type": "stream",
          "name": "stderr",
          "text": [
            "/usr/local/lib/python3.10/dist-packages/sklearn/cluster/_kmeans.py:870: FutureWarning: The default value of `n_init` will change from 10 to 'auto' in 1.4. Set the value of `n_init` explicitly to suppress the warning\n",
            "  warnings.warn(\n"
          ]
        },
        {
          "output_type": "stream",
          "name": "stdout",
          "text": [
            "         ID                  Species        City AST-based group  ARO:3000167  \\\n",
            "0        S1  Enterobacter hormaechei  mysterious   3GC-resistant          0.0   \n",
            "1        S2  Enterobacter hormaechei  mysterious          CP CRE          0.0   \n",
            "2        S3  Enterobacter hormaechei  mysterious          CP CRE          0.0   \n",
            "3        S4  Enterobacter hormaechei  mysterious          CP CRE          0.0   \n",
            "4        S5  Enterobacter hormaechei  mysterious          CP CRE          0.0   \n",
            "..      ...                      ...         ...             ...          ...   \n",
            "151  NYC_Kl    Klebsiella pneumoniae         NYC               0          0.0   \n",
            "152  SAC_En  Enterobacter hormaechei         SAC               0          0.0   \n",
            "153  DEN_Es         Escherichia coli         DEN               0          0.0   \n",
            "154  DEN_Kl    Klebsiella pneumoniae         DEN               0          0.0   \n",
            "155  SAN_En  Enterobacter hormaechei         SAN               0          0.0   \n",
            "\n",
            "     ARO:3002847  mrkb  enta  fepa  ARO:3004122  ...  scintssj  wcst  sfax  \\\n",
            "0            0.0     0     0     0            0  ...         0     0     0   \n",
            "1            0.0     0     0     0            0  ...         0     0     0   \n",
            "2            0.0     0     0     0            0  ...         0     0     0   \n",
            "3            0.0     0     1     0            0  ...         0     0     0   \n",
            "4            0.0     0     0     0            0  ...         0     0     0   \n",
            "..           ...   ...   ...   ...          ...  ...       ...   ...   ...   \n",
            "151          0.0     1     1     1            1  ...         1     0     0   \n",
            "152          0.0     0     0     0            0  ...         0     0     0   \n",
            "153          0.0     0     0     0            0  ...         0     0     0   \n",
            "154          0.0     0     0     0            0  ...         0     0     0   \n",
            "155          0.0     0     0     0            0  ...         0     0     0   \n",
            "\n",
            "     kpsd  mdlb  ARO:3001084  tssj  icmftssm  acrr  Cluster  \n",
            "0       0     0          0.0     0         0     0        0  \n",
            "1       0     0          0.0     0         0     0        0  \n",
            "2       0     0          0.0     0         0     0        0  \n",
            "3       0     0          0.0     0         0     0        0  \n",
            "4       0     0          0.0     0         0     0        0  \n",
            "..    ...   ...          ...   ...       ...   ...      ...  \n",
            "151     0     0          0.0     0         0     1        1  \n",
            "152     0     0          0.0     0         0     0        0  \n",
            "153     0     0          0.0     0         0     0        0  \n",
            "154     0     0          0.0     0         0     0        0  \n",
            "155     0     0          0.0     0         0     0        0  \n",
            "\n",
            "[156 rows x 510 columns]\n"
          ]
        }
      ]
    },
    {
      "cell_type": "code",
      "source": [],
      "metadata": {
        "id": "stARqkZebOsi"
      },
      "execution_count": null,
      "outputs": []
    }
  ]
}